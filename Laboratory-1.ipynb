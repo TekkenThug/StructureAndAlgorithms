{
 "cells": [
  {
   "cell_type": "markdown",
   "metadata": {},
   "source": [
    "### Лабораторная работа №1\n",
    "# Выполнил студент группы БСТ1902 Игнатов В.С."
   ]
  },
  {
   "cell_type": "markdown",
   "metadata": {},
   "source": [
    "# Задание №1\n",
    "Вывести строку «Hello, World!»"
   ]
  },
  {
   "cell_type": "code",
   "execution_count": 1,
   "metadata": {},
   "outputs": [
    {
     "name": "stdout",
     "output_type": "stream",
     "text": [
      "Hello, World!\n"
     ]
    }
   ],
   "source": [
    "print(\"Hello, World!\")"
   ]
  },
  {
   "cell_type": "markdown",
   "metadata": {},
   "source": [
    "# Задание №2\n",
    "Написать генератор случайных матриц(многомерных), который принимает опциональные параметры m, n, min_limit, max_limit, где m и n указывают размер матрицы, а min_lim и max_lim - минимальное и максимальное значение для генерируемого числа . По умолчанию при отсутствии параметров принимать следующие значения:\n",
    "\n",
    "m = 50 \n",
    "\n",
    "n = 50\n",
    "\n",
    "min_limit = -250\n",
    "\n",
    "max_limit = 1000 + (номер своего варианта)"
   ]
  },
  {
   "cell_type": "code",
   "execution_count": 2,
   "metadata": {},
   "outputs": [
    {
     "name": "stdout",
     "output_type": "stream",
     "text": [
      "[[109, -113, 662, -33, 540, -226, 762, 378, 906, 373], [131, 985, 614, 751, 454, 229, 175, 287, 578, -226], [-105, 884, 559, 28, 896, 347, 326, 548, -95, 128], [-227, 254, 234, -165, 243, -182, 112, 394, 209, -73], [69, 786, 302, 720, 725, -67, 492, 351, -148, 521], [551, 416, 20, 950, 855, 252, -10, -193, 483, 749], [605, -190, 434, -55, 619, 690, 497, 562, -103, -147], [-179, 558, -110, -87, 542, 274, 653, 584, 288, 251], [685, 121, 8, 185, 189, 203, 952, 992, 363, -225], [505, 473, 43, 226, 392, 204, 265, 973, -131, 273]]\n"
     ]
    }
   ],
   "source": [
    "import random\n",
    "import time\n",
    "\n",
    "def randomMatrix(m = 50, n = 50, min_limit = -250, max_limit = 1005):\n",
    "    firstLevel = []\n",
    "    i = 1\n",
    "    \n",
    "    while i <= m:\n",
    "        j = 1\n",
    "        secondLevel = []\n",
    "        while j <= n:\n",
    "           elem = random.randint(min_limit, max_limit)\n",
    "           secondLevel.append(elem)\n",
    "           j += 1\n",
    "        \n",
    "        i += 1\n",
    "        firstLevel.append(secondLevel)\n",
    "    return firstLevel\n",
    "\n",
    "matrix = randomMatrix(10, 10)\n",
    "print(matrix)"
   ]
  },
  {
   "cell_type": "markdown",
   "metadata": {},
   "source": [
    "# Задание №3\n",
    "Реализовать методы сортировки строк числовой матрицы в соответствии с заданием. Оценить время работы каждого алгоритма сортировки и сравнить его со временем стандартной функции сортировки. Испытания проводить на сгенерированных матрицах."
   ]
  },
  {
   "cell_type": "markdown",
   "metadata": {},
   "source": [
    "# Сортировка выбором"
   ]
  },
  {
   "cell_type": "code",
   "execution_count": 3,
   "metadata": {},
   "outputs": [],
   "source": [
    "def selectSort(arr):\n",
    "    for i, e in enumerate(arr):\n",
    "        mn = min(range(i, len(arr)), key=arr.__getitem__)\n",
    "        arr[i], arr[mn] = arr[mn], e\n",
    "    return arr"
   ]
  },
  {
   "cell_type": "markdown",
   "metadata": {},
   "source": [
    "# Сортировка вставкой"
   ]
  },
  {
   "cell_type": "code",
   "execution_count": 4,
   "metadata": {},
   "outputs": [],
   "source": [
    "def insertSort(arr):\n",
    "    for i in range(1, len(arr)):\n",
    "        j = i - i\n",
    "        while j >= 0 and arr[i] < arr[j]: \n",
    "            arr[j + 1] = arr[j]\n",
    "            j -= 1\n",
    "        arr[j + 1] = arr[i]"
   ]
  },
  {
   "cell_type": "markdown",
   "metadata": {},
   "source": [
    "# Сортировка обменом"
   ]
  },
  {
   "cell_type": "code",
   "execution_count": 5,
   "metadata": {},
   "outputs": [],
   "source": [
    "def changeSort(arr):\n",
    "    for i in range(len(arr)):\n",
    "        for j in range(0, len(arr)-i-1): \n",
    "            if arr[j] > arr[j+1] : \n",
    "                arr[j], arr[j+1] = arr[j+1], arr[j]"
   ]
  },
  {
   "cell_type": "markdown",
   "metadata": {},
   "source": [
    "# Сортировка Шелла"
   ]
  },
  {
   "cell_type": "code",
   "execution_count": 6,
   "metadata": {},
   "outputs": [],
   "source": [
    "def ShellSort(arr):\n",
    "    last_index = len(arr) - 1\n",
    "    step = len(arr) // 2\n",
    "    while step > 0:\n",
    "        for i in range(step, last_index + 1, 1):\n",
    "            j = i\n",
    "            delta = j - step\n",
    "            while delta >= 0 and arr[delta] > arr[j]:\n",
    "                arr[delta], arr[j] = arr[j], arr[delta]\n",
    "                j = delta\n",
    "                delta = j - step\n",
    "        step //= 2"
   ]
  },
  {
   "cell_type": "markdown",
   "metadata": {},
   "source": [
    "# Быстрая сортировка"
   ]
  },
  {
   "cell_type": "code",
   "execution_count": 7,
   "metadata": {},
   "outputs": [],
   "source": [
    "def quickSort(arr, first=0, last=None):\n",
    "    if last == None:\n",
    "        last = len(arr) - 1\n",
    "        \n",
    "    if first >= last:\n",
    "        return\n",
    " \n",
    "    i, j = first, last\n",
    "    pivot = arr[(last + first) // 2]\n",
    " \n",
    "    while i <= j:\n",
    "        while arr[i] < pivot: i += 1\n",
    "        while arr[j] > pivot: j -= 1\n",
    "        if i <= j:\n",
    "            arr[i], arr[j] = arr[j], arr[i]\n",
    "            i, j = i + 1, j - 1\n",
    "            \n",
    "    quickSort(arr, first, j)\n",
    "    quickSort(arr, i, last)"
   ]
  },
  {
   "cell_type": "markdown",
   "metadata": {},
   "source": [
    "Замер времени работы алгоритмов\n",
    "===================================="
   ]
  },
  {
   "cell_type": "code",
   "execution_count": 8,
   "metadata": {},
   "outputs": [
    {
     "name": "stdout",
     "output_type": "stream",
     "text": [
      "Алгоритм                  Время\n",
      "-------------------------------\n",
      "Встроенная сортирока      1.1714000000004887e-05\n",
      "Сортировка вставкой       0.00019684200000000374\n",
      "Cортировка Шелла          0.001013168000000011\n",
      "Быстрая сортировка        0.0013092979999999876\n",
      "Сортировка выбором        0.022646325000000002\n",
      "Сортировка обменом        0.04535145\n"
     ]
    }
   ],
   "source": [
    "\n",
    "sortObject = {\n",
    "    'Сортировка выбором': selectSort,\n",
    "    'Сортировка вставкой': insertSort,\n",
    "    'Сортировка обменом': changeSort,\n",
    "    'Cортировка Шелла': ShellSort,\n",
    "    'Быстрая сортировка': quickSort,\n",
    "    'Встроенная сортирока': sorted\n",
    "}\n",
    "\n",
    "def printComparison(comparison):\n",
    "    largestNameLen = len(max(comparison.keys(), key=len))\n",
    "    largestNameLen += 6\n",
    "\n",
    "    heading = 'Алгоритм'.ljust(largestNameLen) + 'Время'\n",
    "    print(heading)\n",
    "    print('-' * len(heading))\n",
    "    for algo, timeTaken in comparison.items():\n",
    "        print(f'{algo:<{largestNameLen}}{timeTaken}')\n",
    "\n",
    "timeTaken = {}\n",
    "samples = randomMatrix(100, 1000)\n",
    "for algoName, sorter in sortObject.items():\n",
    "    samplesCopy = samples.copy()\n",
    "    start = time.perf_counter()\n",
    "    for sample in samplesCopy:\n",
    "        sorter(sample)\n",
    "    end = time.perf_counter()\n",
    "\n",
    "    timeTaken[algoName] = (end - start) / len(samples)\n",
    "\n",
    "timeTakenSorted = dict(sorted(timeTaken.items(), key=lambda kv: kv[1]))\n",
    "printComparison(timeTakenSorted)\n"
   ]
  },
  {
   "cell_type": "code",
   "execution_count": null,
   "metadata": {},
   "outputs": [],
   "source": []
  }
 ],
 "metadata": {
  "kernelspec": {
   "display_name": "Python 3",
   "language": "python",
   "name": "python3"
  },
  "language_info": {
   "codemirror_mode": {
    "name": "ipython",
    "version": 3
   },
   "file_extension": ".py",
   "mimetype": "text/x-python",
   "name": "python",
   "nbconvert_exporter": "python",
   "pygments_lexer": "ipython3",
   "version": "3.9.0"
  }
 },
 "nbformat": 4,
 "nbformat_minor": 4
}
